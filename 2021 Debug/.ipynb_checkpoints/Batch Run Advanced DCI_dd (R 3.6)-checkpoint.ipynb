{
 "cells": [
  {
   "cell_type": "code",
   "execution_count": null,
   "id": "053ad8e6",
   "metadata": {},
   "outputs": [],
   "source": [
    "# This didn't work because Jupyter with R kernel can't seem to call .r files properly\n",
    "# instead i created an alt version of FIPEX_run_DCI_DD_2020.r"
   ]
  },
  {
   "cell_type": "code",
   "execution_count": 37,
   "id": "848ec5d3",
   "metadata": {},
   "outputs": [
    {
     "data": {
      "text/plain": [
       "               _                           \n",
       "platform       x86_64-w64-mingw32          \n",
       "arch           x86_64                      \n",
       "os             mingw32                     \n",
       "system         x86_64, mingw32             \n",
       "status                                     \n",
       "major          3                           \n",
       "minor          6.3                         \n",
       "year           2020                        \n",
       "month          02                          \n",
       "day            29                          \n",
       "svn rev        77875                       \n",
       "language       R                           \n",
       "version.string R version 3.6.3 (2020-02-29)\n",
       "nickname       Holding the Windsock        "
      ]
     },
     "metadata": {},
     "output_type": "display_data"
    }
   ],
   "source": [
    "# Feb 5 2022\n",
    "# G Oldford\n",
    "# Purpose - iterate runs of the 'advanced' DCI, store results \n",
    "\n",
    "# Setup - ArcMap produces the necessary FIPEX_Advanced_DD_2020.csv and FIPEX_2020_Params.csv\n",
    "# This function reads FIPEX_Advanced ... tab and overwrites the params\n",
    "# then runs and re-runs, storing the output. \n",
    "# It then should join the output files onto the site survey data for Ontario rivers re-analysis\n",
    "\n",
    "# this is a Jupyter R Notebook. \n",
    "# It can be edited and run in a browser\n",
    "# the code debudgged here must be copied to the .r files\n",
    "R.version"
   ]
  },
  {
   "cell_type": "code",
   "execution_count": 36,
   "id": "59101c18",
   "metadata": {},
   "outputs": [
    {
     "data": {
      "text/html": [
       "'C:/Users/Greig/Documents/GitHub/DCI-R-Code-2020/2021 Debug'"
      ],
      "text/latex": [
       "'C:/Users/Greig/Documents/GitHub/DCI-R-Code-2020/2021 Debug'"
      ],
      "text/markdown": [
       "'C:/Users/Greig/Documents/GitHub/DCI-R-Code-2020/2021 Debug'"
      ],
      "text/plain": [
       "[1] \"C:/Users/Greig/Documents/GitHub/DCI-R-Code-2020/2021 Debug\""
      ]
     },
     "metadata": {},
     "output_type": "display_data"
    }
   ],
   "source": [
    "getwd()"
   ]
  },
  {
   "cell_type": "code",
   "execution_count": 34,
   "id": "19c894e3",
   "metadata": {},
   "outputs": [
    {
     "name": "stdout",
     "output_type": "stream",
     "text": [
      "[1] 1\n",
      "[1] \"C:/Users/Greig/Documents/GitHub/DCI-R-Code-2020/2021 Debug\"\n",
      "[1] \"running model...\"\n"
     ]
    },
    {
     "ename": "ERROR",
     "evalue": "Error in FIPEX_run_DCI_DD_2020(): could not find function \"FIPEX_run_DCI_DD_2020\"\n",
     "output_type": "error",
     "traceback": [
      "Error in FIPEX_run_DCI_DD_2020(): could not find function \"FIPEX_run_DCI_DD_2020\"\nTraceback:\n"
     ]
    }
   ],
   "source": [
    "# systems <- c(\"Duffins\", \"Duffins\", \"Duffins\", \"Duffins\",\n",
    "#              \"Duffins\", \"Duffins\", \"Duffins\",\"Duffins\",\n",
    "#              \"Duffins\", \"Duffins\")\n",
    "   \n",
    "# distances <- c(450,450,1000,1000,\n",
    "#                5000,5000,10000,10000,\n",
    "#                25000,25000)\n",
    "   \n",
    "# functions <- c(\"none\",\"linear\",\"none\",\"linear\",\n",
    "#               \"none\",\"linear\",\"none\",\"linear\",\n",
    "#               \"none\",\"linear\")\n",
    "    \n",
    "systems <- c(\"Duffins\",\n",
    "             \"Duffins\", \"Duffins\", \"Duffins\",\"Duffins\",\n",
    "             \"Duffins\")\n",
    "   \n",
    "distances <- c(1000,\n",
    "               5000,5000,10000,10000,\n",
    "               25000)\n",
    "   \n",
    "functions <- c(\"none\",\n",
    "              \"none\",\"linear\",\"none\",\"linear\",\n",
    "              \"none\")\n",
    "\n",
    "runinfo_df<- data.frame(systems, distances, functions)\n",
    "\n",
    "for(i in 1:nrow(runinfo_df)) {\n",
    "    row <- runinfo_df[i,]\n",
    "    \n",
    "    FIPEX_param_tab=read.csv(\"FIPEX_2020_Params.csv\")\n",
    "\n",
    "    system = row$systems[1]\n",
    "    distance_lim = row$distances[1]\n",
    "    distance_fnc = row$functions[1]\n",
    "\n",
    "    FIPEX_param_tab['dMaxDist'] = distance_lim\n",
    "    FIPEX_param_tab['sDDFunction'] = distance_fnc\n",
    "    if ( distance_fnc == \"none\" ) {\n",
    "        FIPEX_param_tab['bDistanceDecay'] = \"False\"\n",
    "    }else{\n",
    "        FIPEX_param_tab['bDistanceDecay'] = \"True\"\n",
    "    }\n",
    "    \n",
    "    # change params\n",
    "    write.table(x=FIPEX_param_tab,file=\"FIPEX_2020_Params.csv\",\n",
    "            sep=\",\",row.names=F, quote=FALSE)\n",
    "    \n",
    "    # run model (take a while)\n",
    "    #subprocess.check_output(FIPEX_run_DCI_DD_2020.r)\n",
    "    \n",
    "    print(i)\n",
    "    print(getwd())\n",
    "    print(\"running model...\")\n",
    "    \n",
    "    # this might work for first run but not reliably\n",
    "    if (i == 1) {\n",
    "        #source(FIPEX_run_DCI_DD_2020.r)\n",
    "        FIPEX_run_DCI_DD_2020.r\n",
    "    }else{\n",
    "        FIPEX_run_DCI_DD_2020()\n",
    "    }\n",
    "    \n",
    "    # save output\n",
    "    output=read.csv(\"DCI_all_sections_dd.csv\")\n",
    "    out_f = paste(system, \"_DCI_all_sections_dd_\", distance_lim, \"_\", distance_fnc, \".csv\", sep=\"\")\n",
    "    write.table(x=output,file=out_f, sep=\",\",row.names=F, quote=FALSE)\n",
    "    \n",
    "    # debug\n",
    "    #if (i>2){\n",
    "    #    break\n",
    "    #}\n",
    "    \n",
    "    }"
   ]
  },
  {
   "cell_type": "code",
   "execution_count": 24,
   "id": "748f7ac0",
   "metadata": {},
   "outputs": [],
   "source": [
    "# save output\n",
    "    system = row$systems[1]\n",
    "    distance_lim = row$distances[1]\n",
    "    distance_fnc = row$functions[1]\n",
    "\n",
    "    output=read.csv(\"DCI_all_sections_dd.csv\")\n",
    "    out_f = paste(system, \"_DCI_all_sections_dd_\", distance_lim, \"_\", distance_fnc, \".csv\", sep=\"\")\n",
    "    write.table(x=output,file=out_f, sep=\",\",row.names=F, quote=FALSE)"
   ]
  },
  {
   "cell_type": "code",
   "execution_count": 26,
   "id": "12b8d53b",
   "metadata": {},
   "outputs": [
    {
     "data": {
      "text/html": [
       "none\n",
       "<details>\n",
       "\t<summary style=display:list-item;cursor:pointer>\n",
       "\t\t<strong>Levels</strong>:\n",
       "\t</summary>\n",
       "\t<ol class=list-inline>\n",
       "\t\t<li>'linear'</li>\n",
       "\t\t<li>'none'</li>\n",
       "\t</ol>\n",
       "</details>"
      ],
      "text/latex": [
       "none\n",
       "\\emph{Levels}: \\begin{enumerate*}\n",
       "\\item 'linear'\n",
       "\\item 'none'\n",
       "\\end{enumerate*}\n"
      ],
      "text/markdown": [
       "none\n",
       "**Levels**: 1. 'linear'\n",
       "2. 'none'\n",
       "\n",
       "\n"
      ],
      "text/plain": [
       "[1] none\n",
       "Levels: linear none"
      ]
     },
     "metadata": {},
     "output_type": "display_data"
    }
   ],
   "source": [
    "distance_fnc"
   ]
  },
  {
   "cell_type": "code",
   "execution_count": null,
   "id": "a7be4837",
   "metadata": {},
   "outputs": [],
   "source": []
  },
  {
   "cell_type": "code",
   "execution_count": 40,
   "id": "78a58552",
   "metadata": {},
   "outputs": [
    {
     "ename": "ERROR",
     "evalue": "Error in FIPEX_run_DCI_DD_2020(): could not find function \"FIPEX_run_DCI_DD_2020\"\n",
     "output_type": "error",
     "traceback": [
      "Error in FIPEX_run_DCI_DD_2020(): could not find function \"FIPEX_run_DCI_DD_2020\"\nTraceback:\n"
     ]
    }
   ],
   "source": []
  },
  {
   "cell_type": "code",
   "execution_count": 39,
   "id": "ca79294e",
   "metadata": {},
   "outputs": [
    {
     "ename": "ERROR",
     "evalue": "Error in source(FIPEX_run_DCI_DD_2020.r): object 'FIPEX_run_DCI_DD_2020.r' not found\n",
     "output_type": "error",
     "traceback": [
      "Error in source(FIPEX_run_DCI_DD_2020.r): object 'FIPEX_run_DCI_DD_2020.r' not found\nTraceback:\n",
      "1. source(FIPEX_run_DCI_DD_2020.r)"
     ]
    }
   ],
   "source": [
    "source(FIPEX_run_DCI_DD_2020.r)"
   ]
  },
  {
   "cell_type": "code",
   "execution_count": 33,
   "id": "b4a0f47e",
   "metadata": {},
   "outputs": [
    {
     "ename": "ERROR",
     "evalue": "Error in source(FIPEX_run_DCI_DD_2020.r): object 'FIPEX_run_DCI_DD_2020.r' not found\n",
     "output_type": "error",
     "traceback": [
      "Error in source(FIPEX_run_DCI_DD_2020.r): object 'FIPEX_run_DCI_DD_2020.r' not found\nTraceback:\n",
      "1. source(FIPEX_run_DCI_DD_2020.r)"
     ]
    }
   ],
   "source": [
    "source(FIPEX_run_DCI_DD_2020.r)"
   ]
  },
  {
   "cell_type": "code",
   "execution_count": null,
   "id": "29148008",
   "metadata": {},
   "outputs": [],
   "source": []
  },
  {
   "cell_type": "code",
   "execution_count": null,
   "id": "8f27b957",
   "metadata": {},
   "outputs": [],
   "source": [
    "FIPEX_run_DCI_DD_2020.r"
   ]
  }
 ],
 "metadata": {
  "kernelspec": {
   "display_name": "R",
   "language": "R",
   "name": "ir"
  },
  "language_info": {
   "codemirror_mode": "r",
   "file_extension": ".r",
   "mimetype": "text/x-r-source",
   "name": "R",
   "pygments_lexer": "r",
   "version": "3.6.3"
  }
 },
 "nbformat": 4,
 "nbformat_minor": 5
}
