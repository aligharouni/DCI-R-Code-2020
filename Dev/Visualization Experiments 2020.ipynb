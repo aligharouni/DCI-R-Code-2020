{
 "cells": [
  {
   "cell_type": "code",
   "execution_count": null,
   "metadata": {},
   "outputs": [],
   "source": [
    "# a reasonable alternative to BioconductR may be ggraph\n",
    "# (for visualization and / or for analyses)"
   ]
  },
  {
   "cell_type": "code",
   "execution_count": 1,
   "metadata": {},
   "outputs": [
    {
     "data": {
      "text/html": [
       "'R version 3.6.1 (2019-07-05)'"
      ],
      "text/latex": [
       "'R version 3.6.1 (2019-07-05)'"
      ],
      "text/markdown": [
       "'R version 3.6.1 (2019-07-05)'"
      ],
      "text/plain": [
       "[1] \"R version 3.6.1 (2019-07-05)\""
      ]
     },
     "metadata": {},
     "output_type": "display_data"
    }
   ],
   "source": [
    "R.version.string"
   ]
  },
  {
   "cell_type": "markdown",
   "metadata": {},
   "source": [
    "### Alternative network library - ggraph and tidygraph"
   ]
  },
  {
   "cell_type": "code",
   "execution_count": 2,
   "metadata": {},
   "outputs": [
    {
     "name": "stderr",
     "output_type": "stream",
     "text": [
      "-- \u001b[1mAttaching packages\u001b[22m --------------------------------------- tidyverse 1.2.1 --\n",
      "\u001b[32mv\u001b[39m \u001b[34mggplot2\u001b[39m 3.2.1     \u001b[32mv\u001b[39m \u001b[34mpurrr  \u001b[39m 0.3.2\n",
      "\u001b[32mv\u001b[39m \u001b[34mtibble \u001b[39m 2.1.3     \u001b[32mv\u001b[39m \u001b[34mdplyr  \u001b[39m 0.8.3\n",
      "\u001b[32mv\u001b[39m \u001b[34mtidyr  \u001b[39m 1.0.0     \u001b[32mv\u001b[39m \u001b[34mstringr\u001b[39m 1.4.0\n",
      "\u001b[32mv\u001b[39m \u001b[34mreadr  \u001b[39m 1.3.1     \u001b[32mv\u001b[39m \u001b[34mforcats\u001b[39m 0.4.0\n",
      "-- \u001b[1mConflicts\u001b[22m ------------------------------------------ tidyverse_conflicts() --\n",
      "\u001b[31mx\u001b[39m \u001b[34mdplyr\u001b[39m::\u001b[32mfilter()\u001b[39m masks \u001b[34mstats\u001b[39m::filter()\n",
      "\u001b[31mx\u001b[39m \u001b[34mdplyr\u001b[39m::\u001b[32mlag()\u001b[39m    masks \u001b[34mstats\u001b[39m::lag()\n",
      "Warning message:\n",
      "\"package 'tidygraph' was built under R version 3.6.3\"\n",
      "Attaching package: 'tidygraph'\n",
      "\n",
      "The following object is masked from 'package:stats':\n",
      "\n",
      "    filter\n",
      "\n",
      "Warning message:\n",
      "\"package 'ggraph' was built under R version 3.6.3\"\n",
      "Attaching package: 'igraph'\n",
      "\n",
      "The following object is masked from 'package:tidygraph':\n",
      "\n",
      "    groups\n",
      "\n",
      "The following objects are masked from 'package:dplyr':\n",
      "\n",
      "    as_data_frame, groups, union\n",
      "\n",
      "The following objects are masked from 'package:purrr':\n",
      "\n",
      "    compose, simplify\n",
      "\n",
      "The following object is masked from 'package:tidyr':\n",
      "\n",
      "    crossing\n",
      "\n",
      "The following object is masked from 'package:tibble':\n",
      "\n",
      "    as_data_frame\n",
      "\n",
      "The following objects are masked from 'package:stats':\n",
      "\n",
      "    decompose, spectrum\n",
      "\n",
      "The following object is masked from 'package:base':\n",
      "\n",
      "    union\n",
      "\n"
     ]
    }
   ],
   "source": [
    "#as suggested by https://www.jessesadler.com/post/network-analysis-with-r/\n",
    "library(tidyverse)\n",
    "library(tidygraph)\n",
    "library(ggraph)\n",
    "library(tibble)\n",
    "library(igraph)\n",
    "\n",
    "# Jupyter R Notebooks can install packages (e.g.):\n",
    "#install.packages(\"BiocManager\")\n",
    "#BiocManager::install(\"Rgraphviz\")\n",
    "#BiocManager::install(\"RBGL\")\n",
    "\n",
    "#install.packages(\"rbenchmark\", repos='http://cran.us.r-project.org')\n",
    "#install.packages(\"data.table\", repos='http://cran.us.r-project.org')\n",
    "#install.packages(\"tidyverse\", repos='http://cran.us.r-project.org')\n"
   ]
  },
  {
   "cell_type": "code",
   "execution_count": 3,
   "metadata": {},
   "outputs": [
    {
     "name": "stderr",
     "output_type": "stream",
     "text": [
      "Parsed with column specification:\n",
      "cols(\n",
      "  ObID = \u001b[32mcol_double()\u001b[39m,\n",
      "  BarrierOrFlagID = \u001b[32mcol_double()\u001b[39m,\n",
      "  Downstream_Barrier = \u001b[31mcol_character()\u001b[39m,\n",
      "  BarrierOrFlagLabel = \u001b[31mcol_character()\u001b[39m,\n",
      "  Downstream_BarrierLabel = \u001b[31mcol_character()\u001b[39m\n",
      ")\n"
     ]
    },
    {
     "data": {
      "text/html": [
       "<table>\n",
       "<caption>A spec_tbl_df: 11 × 5</caption>\n",
       "<thead>\n",
       "\t<tr><th scope=col>ObID</th><th scope=col>BarrierOrFlagID</th><th scope=col>Downstream_Barrier</th><th scope=col>BarrierOrFlagLabel</th><th scope=col>Downstream_BarrierLabel</th></tr>\n",
       "\t<tr><th scope=col>&lt;dbl&gt;</th><th scope=col>&lt;dbl&gt;</th><th scope=col>&lt;chr&gt;</th><th scope=col>&lt;chr&gt;</th><th scope=col>&lt;chr&gt;</th></tr>\n",
       "</thead>\n",
       "<tbody>\n",
       "\t<tr><td> 1</td><td> 83</td><td>Sink</td><td>6</td><td>Sink</td></tr>\n",
       "\t<tr><td> 2</td><td> 84</td><td>83  </td><td>D</td><td>6   </td></tr>\n",
       "\t<tr><td> 3</td><td> 96</td><td>83  </td><td>7</td><td>6   </td></tr>\n",
       "\t<tr><td> 4</td><td> 98</td><td>84  </td><td>E</td><td>D   </td></tr>\n",
       "\t<tr><td> 5</td><td> 94</td><td>96  </td><td>A</td><td>7   </td></tr>\n",
       "\t<tr><td> 6</td><td> 97</td><td>96  </td><td>B</td><td>7   </td></tr>\n",
       "\t<tr><td> 7</td><td> 99</td><td>98  </td><td>F</td><td>E   </td></tr>\n",
       "\t<tr><td> 8</td><td> 95</td><td>94  </td><td>2</td><td>A   </td></tr>\n",
       "\t<tr><td> 9</td><td>100</td><td>97  </td><td>C</td><td>B   </td></tr>\n",
       "\t<tr><td>10</td><td>102</td><td>99  </td><td>9</td><td>F   </td></tr>\n",
       "\t<tr><td>11</td><td>101</td><td>100 </td><td>8</td><td>C   </td></tr>\n",
       "</tbody>\n",
       "</table>\n"
      ],
      "text/latex": [
       "A spec_tbl_df: 11 × 5\n",
       "\\begin{tabular}{r|lllll}\n",
       " ObID & BarrierOrFlagID & Downstream\\_Barrier & BarrierOrFlagLabel & Downstream\\_BarrierLabel\\\\\n",
       " <dbl> & <dbl> & <chr> & <chr> & <chr>\\\\\n",
       "\\hline\n",
       "\t  1 &  83 & Sink & 6 & Sink\\\\\n",
       "\t  2 &  84 & 83   & D & 6   \\\\\n",
       "\t  3 &  96 & 83   & 7 & 6   \\\\\n",
       "\t  4 &  98 & 84   & E & D   \\\\\n",
       "\t  5 &  94 & 96   & A & 7   \\\\\n",
       "\t  6 &  97 & 96   & B & 7   \\\\\n",
       "\t  7 &  99 & 98   & F & E   \\\\\n",
       "\t  8 &  95 & 94   & 2 & A   \\\\\n",
       "\t  9 & 100 & 97   & C & B   \\\\\n",
       "\t 10 & 102 & 99   & 9 & F   \\\\\n",
       "\t 11 & 101 & 100  & 8 & C   \\\\\n",
       "\\end{tabular}\n"
      ],
      "text/markdown": [
       "\n",
       "A spec_tbl_df: 11 × 5\n",
       "\n",
       "| ObID &lt;dbl&gt; | BarrierOrFlagID &lt;dbl&gt; | Downstream_Barrier &lt;chr&gt; | BarrierOrFlagLabel &lt;chr&gt; | Downstream_BarrierLabel &lt;chr&gt; |\n",
       "|---|---|---|---|---|\n",
       "|  1 |  83 | Sink | 6 | Sink |\n",
       "|  2 |  84 | 83   | D | 6    |\n",
       "|  3 |  96 | 83   | 7 | 6    |\n",
       "|  4 |  98 | 84   | E | D    |\n",
       "|  5 |  94 | 96   | A | 7    |\n",
       "|  6 |  97 | 96   | B | 7    |\n",
       "|  7 |  99 | 98   | F | E    |\n",
       "|  8 |  95 | 94   | 2 | A    |\n",
       "|  9 | 100 | 97   | C | B    |\n",
       "| 10 | 102 | 99   | 9 | F    |\n",
       "| 11 | 101 | 100  | 8 | C    |\n",
       "\n"
      ],
      "text/plain": [
       "   ObID BarrierOrFlagID Downstream_Barrier BarrierOrFlagLabel\n",
       "1   1    83             Sink               6                 \n",
       "2   2    84             83                 D                 \n",
       "3   3    96             83                 7                 \n",
       "4   4    98             84                 E                 \n",
       "5   5    94             96                 A                 \n",
       "6   6    97             96                 B                 \n",
       "7   7    99             98                 F                 \n",
       "8   8    95             94                 2                 \n",
       "9   9   100             97                 C                 \n",
       "10 10   102             99                 9                 \n",
       "11 11   101             100                8                 \n",
       "   Downstream_BarrierLabel\n",
       "1  Sink                   \n",
       "2  6                      \n",
       "3  6                      \n",
       "4  D                      \n",
       "5  7                      \n",
       "6  7                      \n",
       "7  E                      \n",
       "8  A                      \n",
       "9  B                      \n",
       "10 F                      \n",
       "11 C                      "
      ]
     },
     "metadata": {},
     "output_type": "display_data"
    }
   ],
   "source": [
    "#connectivity_data\n",
    "# - table of barrier-to-barrier connectivity by barrier ID\n",
    "connectivity_data<-read_csv(\"FIPEX_connectivity.csv\")\n",
    "connectivity_data"
   ]
  },
  {
   "cell_type": "code",
   "execution_count": 4,
   "metadata": {},
   "outputs": [
    {
     "name": "stderr",
     "output_type": "stream",
     "text": [
      "Parsed with column specification:\n",
      "cols(\n",
      "  ObID = \u001b[32mcol_double()\u001b[39m,\n",
      "  BarrierID = \u001b[31mcol_character()\u001b[39m,\n",
      "  Quantity = \u001b[32mcol_double()\u001b[39m,\n",
      "  BarrierPerm = \u001b[32mcol_double()\u001b[39m,\n",
      "  NaturalYN = \u001b[33mcol_logical()\u001b[39m\n",
      ")\n"
     ]
    },
    {
     "data": {
      "text/html": [
       "<table>\n",
       "<caption>A spec_tbl_df: 12 × 5</caption>\n",
       "<thead>\n",
       "\t<tr><th scope=col>ObID</th><th scope=col>BarrierID</th><th scope=col>Quantity</th><th scope=col>BarrierPerm</th><th scope=col>NaturalYN</th></tr>\n",
       "\t<tr><th scope=col>&lt;dbl&gt;</th><th scope=col>&lt;chr&gt;</th><th scope=col>&lt;dbl&gt;</th><th scope=col>&lt;dbl&gt;</th><th scope=col>&lt;lgl&gt;</th></tr>\n",
       "</thead>\n",
       "<tbody>\n",
       "\t<tr><td> 1</td><td>Sink</td><td> 568.73</td><td>0</td><td>FALSE</td></tr>\n",
       "\t<tr><td> 2</td><td>83  </td><td>1777.89</td><td>1</td><td>FALSE</td></tr>\n",
       "\t<tr><td> 3</td><td>84  </td><td> 670.25</td><td>0</td><td>FALSE</td></tr>\n",
       "\t<tr><td> 4</td><td>96  </td><td>1938.39</td><td>1</td><td>FALSE</td></tr>\n",
       "\t<tr><td> 5</td><td>98  </td><td> 698.75</td><td>0</td><td>FALSE</td></tr>\n",
       "\t<tr><td> 6</td><td>94  </td><td> 856.91</td><td>0</td><td>FALSE</td></tr>\n",
       "\t<tr><td> 7</td><td>97  </td><td>1585.28</td><td>0</td><td>FALSE</td></tr>\n",
       "\t<tr><td> 8</td><td>99  </td><td>4455.92</td><td>0</td><td>FALSE</td></tr>\n",
       "\t<tr><td> 9</td><td>95  </td><td>   0.00</td><td>1</td><td>FALSE</td></tr>\n",
       "\t<tr><td>10</td><td>100 </td><td>2335.07</td><td>0</td><td>FALSE</td></tr>\n",
       "\t<tr><td>11</td><td>102 </td><td>   0.00</td><td>1</td><td>FALSE</td></tr>\n",
       "\t<tr><td>12</td><td>101 </td><td>   0.00</td><td>1</td><td>FALSE</td></tr>\n",
       "</tbody>\n",
       "</table>\n"
      ],
      "text/latex": [
       "A spec_tbl_df: 12 × 5\n",
       "\\begin{tabular}{r|lllll}\n",
       " ObID & BarrierID & Quantity & BarrierPerm & NaturalYN\\\\\n",
       " <dbl> & <chr> & <dbl> & <dbl> & <lgl>\\\\\n",
       "\\hline\n",
       "\t  1 & Sink &  568.73 & 0 & FALSE\\\\\n",
       "\t  2 & 83   & 1777.89 & 1 & FALSE\\\\\n",
       "\t  3 & 84   &  670.25 & 0 & FALSE\\\\\n",
       "\t  4 & 96   & 1938.39 & 1 & FALSE\\\\\n",
       "\t  5 & 98   &  698.75 & 0 & FALSE\\\\\n",
       "\t  6 & 94   &  856.91 & 0 & FALSE\\\\\n",
       "\t  7 & 97   & 1585.28 & 0 & FALSE\\\\\n",
       "\t  8 & 99   & 4455.92 & 0 & FALSE\\\\\n",
       "\t  9 & 95   &    0.00 & 1 & FALSE\\\\\n",
       "\t 10 & 100  & 2335.07 & 0 & FALSE\\\\\n",
       "\t 11 & 102  &    0.00 & 1 & FALSE\\\\\n",
       "\t 12 & 101  &    0.00 & 1 & FALSE\\\\\n",
       "\\end{tabular}\n"
      ],
      "text/markdown": [
       "\n",
       "A spec_tbl_df: 12 × 5\n",
       "\n",
       "| ObID &lt;dbl&gt; | BarrierID &lt;chr&gt; | Quantity &lt;dbl&gt; | BarrierPerm &lt;dbl&gt; | NaturalYN &lt;lgl&gt; |\n",
       "|---|---|---|---|---|\n",
       "|  1 | Sink |  568.73 | 0 | FALSE |\n",
       "|  2 | 83   | 1777.89 | 1 | FALSE |\n",
       "|  3 | 84   |  670.25 | 0 | FALSE |\n",
       "|  4 | 96   | 1938.39 | 1 | FALSE |\n",
       "|  5 | 98   |  698.75 | 0 | FALSE |\n",
       "|  6 | 94   |  856.91 | 0 | FALSE |\n",
       "|  7 | 97   | 1585.28 | 0 | FALSE |\n",
       "|  8 | 99   | 4455.92 | 0 | FALSE |\n",
       "|  9 | 95   |    0.00 | 1 | FALSE |\n",
       "| 10 | 100  | 2335.07 | 0 | FALSE |\n",
       "| 11 | 102  |    0.00 | 1 | FALSE |\n",
       "| 12 | 101  |    0.00 | 1 | FALSE |\n",
       "\n"
      ],
      "text/plain": [
       "   ObID BarrierID Quantity BarrierPerm NaturalYN\n",
       "1   1   Sink       568.73  0           FALSE    \n",
       "2   2   83        1777.89  1           FALSE    \n",
       "3   3   84         670.25  0           FALSE    \n",
       "4   4   96        1938.39  1           FALSE    \n",
       "5   5   98         698.75  0           FALSE    \n",
       "6   6   94         856.91  0           FALSE    \n",
       "7   7   97        1585.28  0           FALSE    \n",
       "8   8   99        4455.92  0           FALSE    \n",
       "9   9   95           0.00  1           FALSE    \n",
       "10 10   100       2335.07  0           FALSE    \n",
       "11 11   102          0.00  1           FALSE    \n",
       "12 12   101          0.00  1           FALSE    "
      ]
     },
     "metadata": {},
     "output_type": "display_data"
    }
   ],
   "source": [
    "barrier_info<-read_csv(\"FIPEX_BarrierHabitatLine.csv\")\n",
    "barrier_info"
   ]
  },
  {
   "cell_type": "code",
   "execution_count": 5,
   "metadata": {},
   "outputs": [
    {
     "data": {
      "text/html": [
       "<table>\n",
       "<caption>A tibble: 12 × 2</caption>\n",
       "<thead>\n",
       "\t<tr><th scope=col>id</th><th scope=col>label</th></tr>\n",
       "\t<tr><th scope=col>&lt;int&gt;</th><th scope=col>&lt;chr&gt;</th></tr>\n",
       "</thead>\n",
       "<tbody>\n",
       "\t<tr><td> 1</td><td>Sink</td></tr>\n",
       "\t<tr><td> 2</td><td>83  </td></tr>\n",
       "\t<tr><td> 3</td><td>84  </td></tr>\n",
       "\t<tr><td> 4</td><td>96  </td></tr>\n",
       "\t<tr><td> 5</td><td>98  </td></tr>\n",
       "\t<tr><td> 6</td><td>94  </td></tr>\n",
       "\t<tr><td> 7</td><td>97  </td></tr>\n",
       "\t<tr><td> 8</td><td>99  </td></tr>\n",
       "\t<tr><td> 9</td><td>95  </td></tr>\n",
       "\t<tr><td>10</td><td>100 </td></tr>\n",
       "\t<tr><td>11</td><td>102 </td></tr>\n",
       "\t<tr><td>12</td><td>101 </td></tr>\n",
       "</tbody>\n",
       "</table>\n"
      ],
      "text/latex": [
       "A tibble: 12 × 2\n",
       "\\begin{tabular}{r|ll}\n",
       " id & label\\\\\n",
       " <int> & <chr>\\\\\n",
       "\\hline\n",
       "\t  1 & Sink\\\\\n",
       "\t  2 & 83  \\\\\n",
       "\t  3 & 84  \\\\\n",
       "\t  4 & 96  \\\\\n",
       "\t  5 & 98  \\\\\n",
       "\t  6 & 94  \\\\\n",
       "\t  7 & 97  \\\\\n",
       "\t  8 & 99  \\\\\n",
       "\t  9 & 95  \\\\\n",
       "\t 10 & 100 \\\\\n",
       "\t 11 & 102 \\\\\n",
       "\t 12 & 101 \\\\\n",
       "\\end{tabular}\n"
      ],
      "text/markdown": [
       "\n",
       "A tibble: 12 × 2\n",
       "\n",
       "| id &lt;int&gt; | label &lt;chr&gt; |\n",
       "|---|---|\n",
       "|  1 | Sink |\n",
       "|  2 | 83   |\n",
       "|  3 | 84   |\n",
       "|  4 | 96   |\n",
       "|  5 | 98   |\n",
       "|  6 | 94   |\n",
       "|  7 | 97   |\n",
       "|  8 | 99   |\n",
       "|  9 | 95   |\n",
       "| 10 | 100  |\n",
       "| 11 | 102  |\n",
       "| 12 | 101  |\n",
       "\n"
      ],
      "text/plain": [
       "   id label\n",
       "1   1 Sink \n",
       "2   2 83   \n",
       "3   3 84   \n",
       "4   4 96   \n",
       "5   5 98   \n",
       "6   6 94   \n",
       "7   7 97   \n",
       "8   8 99   \n",
       "9   9 95   \n",
       "10 10 100  \n",
       "11 11 102  \n",
       "12 12 101  "
      ]
     },
     "metadata": {},
     "output_type": "display_data"
    }
   ],
   "source": [
    "#nodes\n",
    "nodes <- barrier_info %>% \n",
    "# distinct just in case\n",
    "distinct(BarrierID)%>%\n",
    "rowid_to_column(\"id\") %>%\n",
    "rename(label = BarrierID) %>%\n",
    "select(id, label)\n",
    "\n",
    "nodes"
   ]
  },
  {
   "cell_type": "code",
   "execution_count": 6,
   "metadata": {},
   "outputs": [
    {
     "data": {
      "text/html": [
       "<table>\n",
       "<caption>A spec_tbl_df: 11 × 3</caption>\n",
       "<thead>\n",
       "\t<tr><th scope=col>from</th><th scope=col>to</th><th scope=col>weight</th></tr>\n",
       "\t<tr><th scope=col>&lt;int&gt;</th><th scope=col>&lt;int&gt;</th><th scope=col>&lt;dbl&gt;</th></tr>\n",
       "</thead>\n",
       "<tbody>\n",
       "\t<tr><td> 1</td><td> 2</td><td> 568.73</td></tr>\n",
       "\t<tr><td> 2</td><td> 3</td><td>1777.89</td></tr>\n",
       "\t<tr><td> 2</td><td> 4</td><td>1777.89</td></tr>\n",
       "\t<tr><td> 3</td><td> 5</td><td> 670.25</td></tr>\n",
       "\t<tr><td> 4</td><td> 6</td><td>1938.39</td></tr>\n",
       "\t<tr><td> 4</td><td> 7</td><td>1938.39</td></tr>\n",
       "\t<tr><td> 5</td><td> 8</td><td> 698.75</td></tr>\n",
       "\t<tr><td> 6</td><td> 9</td><td> 856.91</td></tr>\n",
       "\t<tr><td> 7</td><td>10</td><td>1585.28</td></tr>\n",
       "\t<tr><td> 8</td><td>11</td><td>4455.92</td></tr>\n",
       "\t<tr><td>10</td><td>12</td><td>2335.07</td></tr>\n",
       "</tbody>\n",
       "</table>\n"
      ],
      "text/latex": [
       "A spec_tbl_df: 11 × 3\n",
       "\\begin{tabular}{r|lll}\n",
       " from & to & weight\\\\\n",
       " <int> & <int> & <dbl>\\\\\n",
       "\\hline\n",
       "\t  1 &  2 &  568.73\\\\\n",
       "\t  2 &  3 & 1777.89\\\\\n",
       "\t  2 &  4 & 1777.89\\\\\n",
       "\t  3 &  5 &  670.25\\\\\n",
       "\t  4 &  6 & 1938.39\\\\\n",
       "\t  4 &  7 & 1938.39\\\\\n",
       "\t  5 &  8 &  698.75\\\\\n",
       "\t  6 &  9 &  856.91\\\\\n",
       "\t  7 & 10 & 1585.28\\\\\n",
       "\t  8 & 11 & 4455.92\\\\\n",
       "\t 10 & 12 & 2335.07\\\\\n",
       "\\end{tabular}\n"
      ],
      "text/markdown": [
       "\n",
       "A spec_tbl_df: 11 × 3\n",
       "\n",
       "| from &lt;int&gt; | to &lt;int&gt; | weight &lt;dbl&gt; |\n",
       "|---|---|---|\n",
       "|  1 |  2 |  568.73 |\n",
       "|  2 |  3 | 1777.89 |\n",
       "|  2 |  4 | 1777.89 |\n",
       "|  3 |  5 |  670.25 |\n",
       "|  4 |  6 | 1938.39 |\n",
       "|  4 |  7 | 1938.39 |\n",
       "|  5 |  8 |  698.75 |\n",
       "|  6 |  9 |  856.91 |\n",
       "|  7 | 10 | 1585.28 |\n",
       "|  8 | 11 | 4455.92 |\n",
       "| 10 | 12 | 2335.07 |\n",
       "\n"
      ],
      "text/plain": [
       "   from to weight \n",
       "1   1    2  568.73\n",
       "2   2    3 1777.89\n",
       "3   2    4 1777.89\n",
       "4   3    5  670.25\n",
       "5   4    6 1938.39\n",
       "6   4    7 1938.39\n",
       "7   5    8  698.75\n",
       "8   6    9  856.91\n",
       "9   7   10 1585.28\n",
       "10  8   11 4455.92\n",
       "11 10   12 2335.07"
      ]
     },
     "metadata": {},
     "output_type": "display_data"
    }
   ],
   "source": [
    "#edges\n",
    "edges <- connectivity_data %>%\n",
    "left_join(nodes, by = c(\"Downstream_Barrier\" = \"label\")) %>%\n",
    "rename(from = id) %>%\n",
    "mutate(BarrierOrFlagID = as.character(BarrierOrFlagID)) %>%\n",
    "left_join(nodes, by = c(\"BarrierOrFlagID\" = \"label\")) %>%\n",
    "rename(to = id) %>%\n",
    "left_join(barrier_info, by = c(\"Downstream_Barrier\" = \"BarrierID\")) %>%\n",
    "rename(weight = Quantity) %>%\n",
    "#mutate(weight = 1) %>% \n",
    "select(from,to,weight)\n",
    "\n",
    "edges"
   ]
  },
  {
   "cell_type": "code",
   "execution_count": 7,
   "metadata": {},
   "outputs": [
    {
     "data": {
      "text/plain": [
       "\u001b[90m# A tbl_graph: 12 nodes and 11 edges\n",
       "\u001b[39m\u001b[90m#\n",
       "\u001b[39m\u001b[90m# A rooted tree\n",
       "\u001b[39m\u001b[90m#\n",
       "\u001b[39m\u001b[90m# Node Data: 12 x 2 (active)\u001b[39m\n",
       "     id label\n",
       "  \u001b[3m\u001b[90m<int>\u001b[39m\u001b[23m \u001b[3m\u001b[90m<chr>\u001b[39m\u001b[23m\n",
       "\u001b[90m1\u001b[39m     1 Sink \n",
       "\u001b[90m2\u001b[39m     2 83   \n",
       "\u001b[90m3\u001b[39m     3 84   \n",
       "\u001b[90m4\u001b[39m     4 96   \n",
       "\u001b[90m5\u001b[39m     5 98   \n",
       "\u001b[90m6\u001b[39m     6 94   \n",
       "\u001b[90m# ... with 6 more rows\u001b[39m\n",
       "\u001b[90m#\n",
       "\u001b[39m\u001b[90m# Edge Data: 11 x 3\u001b[39m\n",
       "   from    to weight\n",
       "  \u001b[3m\u001b[90m<int>\u001b[39m\u001b[23m \u001b[3m\u001b[90m<int>\u001b[39m\u001b[23m  \u001b[3m\u001b[90m<dbl>\u001b[39m\u001b[23m\n",
       "\u001b[90m1\u001b[39m     1     2   569.\n",
       "\u001b[90m2\u001b[39m     2     3  \u001b[4m1\u001b[24m778.\n",
       "\u001b[90m3\u001b[39m     2     4  \u001b[4m1\u001b[24m778.\n",
       "\u001b[90m# ... with 8 more rows\u001b[39m"
      ]
     },
     "metadata": {},
     "output_type": "display_data"
    }
   ],
   "source": [
    "# this should report it is a 'rooted tree'\n",
    "graph_tidy <- tbl_graph(nodes = nodes, edges = edges, directed = TRUE)\n",
    "graph_tidy"
   ]
  },
  {
   "cell_type": "code",
   "execution_count": 8,
   "metadata": {},
   "outputs": [
    {
     "name": "stderr",
     "output_type": "stream",
     "text": [
      "Using `tree` as default layout\n"
     ]
    },
    {
     "data": {
      "image/png": "[encoded data removed]",
      "text/plain": [
       "plot without title"
      ]
     },
     "metadata": {},
     "output_type": "display_data"
    }
   ],
   "source": [
    "# ggraph inherits syntax of ggplot2\n",
    "ggraph(graph_tidy) + \n",
    "#geom_node_point(fill = NA,\n",
    "                #alpha = 0.5,\n",
    "                #size = 2,\n",
    "                #shape = 1,\n",
    "                #stroke = 1,\n",
    "                #fill = \"red\",\n",
    "#                colour = \"black\") + \n",
    "geom_edge_link(aes(start_cap = label_rect(node1.label),\n",
    "                       end_cap = label_rect(node2.label)),\n",
    "               arrow = arrow(length = unit(0.2, \"cm\"),\n",
    "                            type=\"closed\")) + \n",
    "geom_node_text(aes(label = id), \n",
    "               repel = FALSE) +\n",
    "theme_graph()\n",
    "\n",
    "# https://www.data-imaginist.com/2017/ggraph-introduction-nodes/\n",
    "# https://www.data-imaginist.com/2017/ggraph-introduction-edges/\n",
    "#https://ggplot2.tidyverse.org/reference/aes_colour_fill_alpha.html"
   ]
  },
  {
   "cell_type": "code",
   "execution_count": 9,
   "metadata": {},
   "outputs": [
    {
     "data": {
      "text/plain": [
       "\u001b[90m# A tbl_graph: 12 nodes and 11 edges\n",
       "\u001b[39m\u001b[90m#\n",
       "\u001b[39m\u001b[90m# A rooted tree\n",
       "\u001b[39m\u001b[90m#\n",
       "\u001b[39m\u001b[90m# Node Data: 12 x 2 (active)\u001b[39m\n",
       "     id label\n",
       "  \u001b[3m\u001b[90m<int>\u001b[39m\u001b[23m \u001b[3m\u001b[90m<chr>\u001b[39m\u001b[23m\n",
       "\u001b[90m1\u001b[39m     1 Sink \n",
       "\u001b[90m2\u001b[39m     2 83   \n",
       "\u001b[90m3\u001b[39m     3 84   \n",
       "\u001b[90m4\u001b[39m     4 96   \n",
       "\u001b[90m5\u001b[39m     5 98   \n",
       "\u001b[90m6\u001b[39m     6 94   \n",
       "\u001b[90m# ... with 6 more rows\u001b[39m\n",
       "\u001b[90m#\n",
       "\u001b[39m\u001b[90m# Edge Data: 11 x 3\u001b[39m\n",
       "   from    to weight\n",
       "  \u001b[3m\u001b[90m<int>\u001b[39m\u001b[23m \u001b[3m\u001b[90m<int>\u001b[39m\u001b[23m  \u001b[3m\u001b[90m<dbl>\u001b[39m\u001b[23m\n",
       "\u001b[90m1\u001b[39m     1     2   569.\n",
       "\u001b[90m2\u001b[39m     2     3  \u001b[4m1\u001b[24m778.\n",
       "\u001b[90m3\u001b[39m     2     4  \u001b[4m1\u001b[24m778.\n",
       "\u001b[90m# ... with 8 more rows\u001b[39m"
      ]
     },
     "metadata": {},
     "output_type": "display_data"
    }
   ],
   "source": [
    "### Find Shortest paths\n",
    "graph_tidy"
   ]
  },
  {
   "cell_type": "code",
   "execution_count": 10,
   "metadata": {},
   "outputs": [
    {
     "data": {
      "text/html": [
       "'list'"
      ],
      "text/latex": [
       "'list'"
      ],
      "text/markdown": [
       "'list'"
      ],
      "text/plain": [
       "[1] \"list\""
      ]
     },
     "metadata": {},
     "output_type": "display_data"
    },
    {
     "data": {
      "text/html": [
       "'integer'"
      ],
      "text/latex": [
       "'integer'"
      ],
      "text/markdown": [
       "'integer'"
      ],
      "text/plain": [
       "[1] \"integer\""
      ]
     },
     "metadata": {},
     "output_type": "display_data"
    },
    {
     "data": {
      "text/html": [
       "1"
      ],
      "text/latex": [
       "1"
      ],
      "text/markdown": [
       "1"
      ],
      "text/plain": [
       "[1] 1"
      ]
     },
     "metadata": {},
     "output_type": "display_data"
    }
   ],
   "source": [
    "allshortestpaths <- all_shortest_paths(graph_tidy,\n",
    "                                       1,\n",
    "                                       to = V(graph_tidy),\n",
    "                                       mode = c(\"out\", \"all\", \"in\"),\n",
    "                                       weights = NULL)\n",
    "# see https://igraph.org/r/doc/distances.html\n",
    "\n",
    "t <- allshortestpaths$res[2]\n",
    "typeof(t)\n",
    "s<-t[[1]]\n",
    "typeof(s)\n",
    "u<-as.integer(s)\n",
    "u[1]"
   ]
  },
  {
   "cell_type": "code",
   "execution_count": null,
   "metadata": {},
   "outputs": [],
   "source": [
    "# code below not working to generate an interactive version\n",
    "# issues is probably just the Jupyter notebook format...\n",
    "library(visNetwork)\n",
    "library(networkD3)\n",
    "library(htmlwidgets)\n",
    "library(plotly)\n",
    "#install.packages(\"visNetwork\")\n",
    "#install.packages(\"htmlwidgets\")"
   ]
  },
  {
   "cell_type": "code",
   "execution_count": null,
   "metadata": {},
   "outputs": [],
   "source": [
    "#not working in notebook\n",
    "v<-visNetwork(nodes, edges)"
   ]
  },
  {
   "cell_type": "code",
   "execution_count": null,
   "metadata": {},
   "outputs": [],
   "source": [
    "embed_notebook()"
   ]
  }
 ],
 "metadata": {
  "kernelspec": {
   "display_name": "R",
   "language": "R",
   "name": "ir"
  },
  "language_info": {
   "codemirror_mode": "r",
   "file_extension": ".r",
   "mimetype": "text/x-r-source",
   "name": "R",
   "pygments_lexer": "r",
   "version": "3.6.1"
  }
 },
 "nbformat": 4,
 "nbformat_minor": 2
}
